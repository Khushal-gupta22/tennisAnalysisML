{
 "cells": [
  {
   "cell_type": "code",
   "execution_count": 2,
   "metadata": {},
   "outputs": [
    {
     "name": "stdout",
     "output_type": "stream",
     "text": [
      "Collecting roboflow\n",
      "  Downloading roboflow-1.1.27-py3-none-any.whl.metadata (9.3 kB)\n",
      "Collecting certifi==2023.7.22 (from roboflow)\n",
      "  Downloading certifi-2023.7.22-py3-none-any.whl.metadata (2.2 kB)\n",
      "Collecting chardet==4.0.0 (from roboflow)\n",
      "  Downloading chardet-4.0.0-py2.py3-none-any.whl.metadata (3.5 kB)\n",
      "Collecting cycler==0.10.0 (from roboflow)\n",
      "  Downloading cycler-0.10.0-py2.py3-none-any.whl.metadata (722 bytes)\n",
      "Collecting idna==2.10 (from roboflow)\n",
      "  Downloading idna-2.10-py2.py3-none-any.whl.metadata (9.1 kB)\n",
      "Requirement already satisfied: kiwisolver>=1.3.1 in c:\\python312\\lib\\site-packages (from roboflow) (1.4.5)\n",
      "Requirement already satisfied: matplotlib in c:\\python312\\lib\\site-packages (from roboflow) (3.8.4)\n",
      "Requirement already satisfied: numpy>=1.18.5 in c:\\python312\\lib\\site-packages (from roboflow) (1.26.4)\n",
      "Collecting opencv-python-headless==4.8.0.74 (from roboflow)\n",
      "  Downloading opencv_python_headless-4.8.0.74-cp37-abi3-win_amd64.whl.metadata (19 kB)\n",
      "Requirement already satisfied: Pillow>=7.1.2 in c:\\python312\\lib\\site-packages (from roboflow) (10.3.0)\n",
      "Requirement already satisfied: python-dateutil in c:\\users\\raj enterprises\\appdata\\roaming\\python\\python312\\site-packages (from roboflow) (2.8.2)\n",
      "Requirement already satisfied: python-dotenv in c:\\users\\raj enterprises\\appdata\\roaming\\python\\python312\\site-packages (from roboflow) (1.0.0)\n",
      "Requirement already satisfied: requests in c:\\users\\raj enterprises\\appdata\\roaming\\python\\python312\\site-packages (from roboflow) (2.31.0)\n",
      "Requirement already satisfied: six in c:\\users\\raj enterprises\\appdata\\roaming\\python\\python312\\site-packages (from roboflow) (1.16.0)\n",
      "Requirement already satisfied: urllib3>=1.26.6 in c:\\users\\raj enterprises\\appdata\\roaming\\python\\python312\\site-packages (from roboflow) (2.1.0)\n",
      "Requirement already satisfied: tqdm>=4.41.0 in c:\\python312\\lib\\site-packages (from roboflow) (4.66.2)\n",
      "Requirement already satisfied: PyYAML>=5.3.1 in c:\\users\\raj enterprises\\appdata\\roaming\\python\\python312\\site-packages (from roboflow) (6.0.1)\n",
      "Collecting requests-toolbelt (from roboflow)\n",
      "  Downloading requests_toolbelt-1.0.0-py2.py3-none-any.whl.metadata (14 kB)\n",
      "Collecting python-magic (from roboflow)\n",
      "  Downloading python_magic-0.4.27-py2.py3-none-any.whl.metadata (5.8 kB)\n",
      "Requirement already satisfied: colorama in c:\\users\\raj enterprises\\appdata\\roaming\\python\\python312\\site-packages (from tqdm>=4.41.0->roboflow) (0.4.6)\n",
      "Requirement already satisfied: contourpy>=1.0.1 in c:\\python312\\lib\\site-packages (from matplotlib->roboflow) (1.2.1)\n",
      "Requirement already satisfied: fonttools>=4.22.0 in c:\\python312\\lib\\site-packages (from matplotlib->roboflow) (4.51.0)\n",
      "Requirement already satisfied: packaging>=20.0 in c:\\users\\raj enterprises\\appdata\\roaming\\python\\python312\\site-packages (from matplotlib->roboflow) (23.2)\n",
      "Requirement already satisfied: pyparsing>=2.3.1 in c:\\users\\raj enterprises\\appdata\\roaming\\python\\python312\\site-packages (from matplotlib->roboflow) (3.1.1)\n",
      "Requirement already satisfied: charset-normalizer<4,>=2 in c:\\users\\raj enterprises\\appdata\\roaming\\python\\python312\\site-packages (from requests->roboflow) (3.3.2)\n",
      "Downloading roboflow-1.1.27-py3-none-any.whl (74 kB)\n",
      "   ---------------------------------------- 0.0/74.1 kB ? eta -:--:--\n",
      "   ---------------------------------------- 74.1/74.1 kB 2.1 MB/s eta 0:00:00\n",
      "Downloading certifi-2023.7.22-py3-none-any.whl (158 kB)\n",
      "   ---------------------------------------- 0.0/158.3 kB ? eta -:--:--\n",
      "   ---------------------------------------- 158.3/158.3 kB 9.3 MB/s eta 0:00:00\n",
      "Downloading chardet-4.0.0-py2.py3-none-any.whl (178 kB)\n",
      "   ---------------------------------------- 0.0/178.7 kB ? eta -:--:--\n",
      "   --------------------------------------- 178.7/178.7 kB 10.5 MB/s eta 0:00:00\n",
      "Downloading cycler-0.10.0-py2.py3-none-any.whl (6.5 kB)\n",
      "Downloading idna-2.10-py2.py3-none-any.whl (58 kB)\n",
      "   ---------------------------------------- 0.0/58.8 kB ? eta -:--:--\n",
      "   ---------------------------------------- 58.8/58.8 kB 3.2 MB/s eta 0:00:00\n",
      "Downloading opencv_python_headless-4.8.0.74-cp37-abi3-win_amd64.whl (38.0 MB)\n",
      "   ---------------------------------------- 0.0/38.0 MB ? eta -:--:--\n",
      "    --------------------------------------- 0.8/38.0 MB 26.4 MB/s eta 0:00:02\n",
      "   -- ------------------------------------- 2.1/38.0 MB 26.8 MB/s eta 0:00:02\n",
      "   --- ------------------------------------ 3.7/38.0 MB 29.7 MB/s eta 0:00:02\n",
      "   ----- ---------------------------------- 4.9/38.0 MB 28.5 MB/s eta 0:00:02\n",
      "   ------ --------------------------------- 6.1/38.0 MB 27.8 MB/s eta 0:00:02\n",
      "   ------- -------------------------------- 7.3/38.0 MB 27.6 MB/s eta 0:00:02\n",
      "   -------- ------------------------------- 8.5/38.0 MB 27.1 MB/s eta 0:00:02\n",
      "   ---------- ----------------------------- 9.7/38.0 MB 27.0 MB/s eta 0:00:02\n",
      "   ----------- ---------------------------- 10.8/38.0 MB 27.3 MB/s eta 0:00:01\n",
      "   ------------ --------------------------- 12.0/38.0 MB 27.3 MB/s eta 0:00:01\n",
      "   ------------- -------------------------- 13.2/38.0 MB 26.2 MB/s eta 0:00:01\n",
      "   --------------- ------------------------ 14.4/38.0 MB 25.1 MB/s eta 0:00:01\n",
      "   --------------- ------------------------ 14.5/38.0 MB 23.4 MB/s eta 0:00:02\n",
      "   --------------- ------------------------ 14.8/38.0 MB 22.6 MB/s eta 0:00:02\n",
      "   ---------------- ----------------------- 15.3/38.0 MB 20.5 MB/s eta 0:00:02\n",
      "   ---------------- ----------------------- 15.4/38.0 MB 18.7 MB/s eta 0:00:02\n",
      "   ---------------- ----------------------- 15.9/38.0 MB 18.2 MB/s eta 0:00:02\n",
      "   ----------------- ---------------------- 16.3/38.0 MB 17.3 MB/s eta 0:00:02\n",
      "   ----------------- ---------------------- 16.4/38.0 MB 15.6 MB/s eta 0:00:02\n",
      "   ----------------- ---------------------- 16.6/38.0 MB 14.9 MB/s eta 0:00:02\n",
      "   ------------------ --------------------- 17.6/38.0 MB 14.5 MB/s eta 0:00:02\n",
      "   ------------------ --------------------- 17.6/38.0 MB 14.5 MB/s eta 0:00:02\n",
      "   ------------------ --------------------- 18.0/38.0 MB 13.4 MB/s eta 0:00:02\n",
      "   ------------------- -------------------- 18.4/38.0 MB 12.8 MB/s eta 0:00:02\n",
      "   -------------------- ------------------- 19.0/38.0 MB 12.4 MB/s eta 0:00:02\n",
      "   -------------------- ------------------- 19.4/38.0 MB 11.9 MB/s eta 0:00:02\n",
      "   -------------------- ------------------- 19.9/38.0 MB 11.9 MB/s eta 0:00:02\n",
      "   --------------------- ------------------ 20.4/38.0 MB 11.1 MB/s eta 0:00:02\n",
      "   --------------------- ------------------ 20.8/38.0 MB 11.1 MB/s eta 0:00:02\n",
      "   ---------------------- ----------------- 21.2/38.0 MB 10.6 MB/s eta 0:00:02\n",
      "   ---------------------- ----------------- 21.3/38.0 MB 10.1 MB/s eta 0:00:02\n",
      "   ---------------------- ----------------- 21.6/38.0 MB 9.9 MB/s eta 0:00:02\n",
      "   ----------------------- ---------------- 21.9/38.0 MB 9.5 MB/s eta 0:00:02\n",
      "   ----------------------- ---------------- 22.0/38.0 MB 9.0 MB/s eta 0:00:02\n",
      "   ----------------------- ---------------- 22.2/38.0 MB 9.1 MB/s eta 0:00:02\n",
      "   ----------------------- ---------------- 22.5/38.0 MB 8.6 MB/s eta 0:00:02\n",
      "   ------------------------ --------------- 23.2/38.0 MB 8.3 MB/s eta 0:00:02\n",
      "   ------------------------ --------------- 23.4/38.0 MB 8.4 MB/s eta 0:00:02\n",
      "   ------------------------- -------------- 23.9/38.0 MB 8.0 MB/s eta 0:00:02\n",
      "   ------------------------- -------------- 23.9/38.0 MB 7.7 MB/s eta 0:00:02\n",
      "   ------------------------- -------------- 23.9/38.0 MB 7.7 MB/s eta 0:00:02\n",
      "   ------------------------- -------------- 24.1/38.0 MB 7.3 MB/s eta 0:00:02\n",
      "   ------------------------- -------------- 24.4/38.0 MB 7.0 MB/s eta 0:00:02\n",
      "   ------------------------- -------------- 24.5/38.0 MB 7.0 MB/s eta 0:00:02\n",
      "   -------------------------- ------------- 24.7/38.0 MB 6.8 MB/s eta 0:00:02\n",
      "   -------------------------- ------------- 24.8/38.0 MB 6.6 MB/s eta 0:00:02\n",
      "   -------------------------- ------------- 24.8/38.0 MB 6.6 MB/s eta 0:00:02\n",
      "   -------------------------- ------------- 25.1/38.0 MB 6.7 MB/s eta 0:00:02\n",
      "   -------------------------- ------------- 25.4/38.0 MB 6.4 MB/s eta 0:00:02\n",
      "   -------------------------- ------------- 25.5/38.0 MB 6.2 MB/s eta 0:00:02\n",
      "   --------------------------- ------------ 25.7/38.0 MB 6.4 MB/s eta 0:00:02\n",
      "   --------------------------- ------------ 25.9/38.0 MB 6.1 MB/s eta 0:00:02\n",
      "   --------------------------- ------------ 26.1/38.0 MB 6.0 MB/s eta 0:00:02\n",
      "   --------------------------- ------------ 26.3/38.0 MB 6.1 MB/s eta 0:00:02\n",
      "   ---------------------------- ----------- 26.7/38.0 MB 6.2 MB/s eta 0:00:02\n",
      "   ----------------------------- ---------- 27.6/38.0 MB 6.2 MB/s eta 0:00:02\n",
      "   ----------------------------- ---------- 28.0/38.0 MB 6.4 MB/s eta 0:00:02\n",
      "   ----------------------------- ---------- 28.4/38.0 MB 6.4 MB/s eta 0:00:02\n",
      "   ------------------------------ --------- 28.5/38.0 MB 6.1 MB/s eta 0:00:02\n",
      "   ------------------------------- -------- 29.4/38.0 MB 6.2 MB/s eta 0:00:02\n",
      "   ------------------------------- -------- 30.3/38.0 MB 6.5 MB/s eta 0:00:02\n",
      "   -------------------------------- ------- 30.8/38.0 MB 6.5 MB/s eta 0:00:02\n",
      "   -------------------------------- ------- 31.2/38.0 MB 6.5 MB/s eta 0:00:02\n",
      "   --------------------------------- ------ 31.7/38.0 MB 6.7 MB/s eta 0:00:01\n",
      "   --------------------------------- ------ 32.2/38.0 MB 7.0 MB/s eta 0:00:01\n",
      "   --------------------------------- ------ 32.2/38.0 MB 6.8 MB/s eta 0:00:01\n",
      "   ---------------------------------- ----- 32.6/38.0 MB 7.0 MB/s eta 0:00:01\n",
      "   ---------------------------------- ----- 32.8/38.0 MB 6.9 MB/s eta 0:00:01\n",
      "   ---------------------------------- ----- 32.9/38.0 MB 6.7 MB/s eta 0:00:01\n",
      "   ---------------------------------- ----- 33.2/38.0 MB 6.7 MB/s eta 0:00:01\n",
      "   ----------------------------------- ---- 33.5/38.0 MB 6.5 MB/s eta 0:00:01\n",
      "   ----------------------------------- ---- 33.7/38.0 MB 6.4 MB/s eta 0:00:01\n",
      "   ----------------------------------- ---- 34.0/38.0 MB 6.5 MB/s eta 0:00:01\n",
      "   ------------------------------------ --- 34.4/38.0 MB 6.8 MB/s eta 0:00:01\n",
      "   ------------------------------------ --- 34.5/38.0 MB 6.7 MB/s eta 0:00:01\n",
      "   ------------------------------------ --- 34.7/38.0 MB 7.0 MB/s eta 0:00:01\n",
      "   ------------------------------------- -- 35.2/38.0 MB 7.4 MB/s eta 0:00:01\n",
      "   ------------------------------------- -- 35.4/38.0 MB 7.4 MB/s eta 0:00:01\n",
      "   ------------------------------------- -- 35.5/38.0 MB 7.4 MB/s eta 0:00:01\n",
      "   ------------------------------------- -- 35.8/38.0 MB 7.5 MB/s eta 0:00:01\n",
      "   -------------------------------------- - 36.2/38.0 MB 7.7 MB/s eta 0:00:01\n",
      "   ---------------------------------------  37.1/38.0 MB 8.1 MB/s eta 0:00:01\n",
      "   ---------------------------------------  37.6/38.0 MB 8.2 MB/s eta 0:00:01\n",
      "   ---------------------------------------  37.9/38.0 MB 7.8 MB/s eta 0:00:01\n",
      "   ---------------------------------------  37.9/38.0 MB 7.5 MB/s eta 0:00:01\n",
      "   ---------------------------------------  37.9/38.0 MB 7.5 MB/s eta 0:00:01\n",
      "   ---------------------------------------- 38.0/38.0 MB 7.2 MB/s eta 0:00:00\n",
      "Downloading python_magic-0.4.27-py2.py3-none-any.whl (13 kB)\n",
      "Downloading requests_toolbelt-1.0.0-py2.py3-none-any.whl (54 kB)\n",
      "   ---------------------------------------- 0.0/54.5 kB ? eta -:--:--\n",
      "   ---------------------------------------- 54.5/54.5 kB ? eta 0:00:00\n",
      "Installing collected packages: python-magic, opencv-python-headless, idna, cycler, chardet, certifi, requests-toolbelt, roboflow\n",
      "  Attempting uninstall: idna\n",
      "    Found existing installation: idna 3.6\n",
      "    Uninstalling idna-3.6:\n",
      "      Successfully uninstalled idna-3.6\n",
      "  Attempting uninstall: cycler\n",
      "    Found existing installation: cycler 0.12.1\n",
      "    Uninstalling cycler-0.12.1:\n",
      "      Successfully uninstalled cycler-0.12.1\n",
      "  Attempting uninstall: certifi\n",
      "    Found existing installation: certifi 2024.2.2\n",
      "    Uninstalling certifi-2024.2.2:\n",
      "      Successfully uninstalled certifi-2024.2.2\n",
      "Successfully installed certifi-2023.7.22 chardet-4.0.0 cycler-0.10.0 idna-2.10 opencv-python-headless-4.8.0.74 python-magic-0.4.27 requests-toolbelt-1.0.0 roboflow-1.1.27\n",
      "Requirement already satisfied: ultralytics in c:\\python312\\lib\\site-packages (8.1.47)\n",
      "Requirement already satisfied: matplotlib>=3.3.0 in c:\\python312\\lib\\site-packages (from ultralytics) (3.8.4)\n",
      "Requirement already satisfied: opencv-python>=4.6.0 in c:\\python312\\lib\\site-packages (from ultralytics) (4.9.0.80)\n",
      "Requirement already satisfied: pillow>=7.1.2 in c:\\python312\\lib\\site-packages (from ultralytics) (10.3.0)\n",
      "Requirement already satisfied: pyyaml>=5.3.1 in c:\\users\\raj enterprises\\appdata\\roaming\\python\\python312\\site-packages (from ultralytics) (6.0.1)\n",
      "Requirement already satisfied: requests>=2.23.0 in c:\\users\\raj enterprises\\appdata\\roaming\\python\\python312\\site-packages (from ultralytics) (2.31.0)\n",
      "Requirement already satisfied: scipy>=1.4.1 in c:\\python312\\lib\\site-packages (from ultralytics) (1.13.0)\n",
      "Requirement already satisfied: torch>=1.8.0 in c:\\python312\\lib\\site-packages (from ultralytics) (2.2.2)\n",
      "Requirement already satisfied: torchvision>=0.9.0 in c:\\python312\\lib\\site-packages (from ultralytics) (0.17.2)\n",
      "Requirement already satisfied: tqdm>=4.64.0 in c:\\python312\\lib\\site-packages (from ultralytics) (4.66.2)\n",
      "Requirement already satisfied: psutil in c:\\users\\raj enterprises\\appdata\\roaming\\python\\python312\\site-packages (from ultralytics) (5.9.8)\n",
      "Requirement already satisfied: py-cpuinfo in c:\\python312\\lib\\site-packages (from ultralytics) (9.0.0)\n",
      "Requirement already satisfied: thop>=0.1.1 in c:\\python312\\lib\\site-packages (from ultralytics) (0.1.1.post2209072238)\n",
      "Requirement already satisfied: pandas>=1.1.4 in c:\\python312\\lib\\site-packages (from ultralytics) (2.2.2)\n",
      "Requirement already satisfied: seaborn>=0.11.0 in c:\\python312\\lib\\site-packages (from ultralytics) (0.13.2)\n",
      "Requirement already satisfied: contourpy>=1.0.1 in c:\\python312\\lib\\site-packages (from matplotlib>=3.3.0->ultralytics) (1.2.1)\n",
      "Requirement already satisfied: cycler>=0.10 in c:\\python312\\lib\\site-packages (from matplotlib>=3.3.0->ultralytics) (0.10.0)\n",
      "Requirement already satisfied: fonttools>=4.22.0 in c:\\python312\\lib\\site-packages (from matplotlib>=3.3.0->ultralytics) (4.51.0)\n",
      "Requirement already satisfied: kiwisolver>=1.3.1 in c:\\python312\\lib\\site-packages (from matplotlib>=3.3.0->ultralytics) (1.4.5)\n",
      "Requirement already satisfied: numpy>=1.21 in c:\\python312\\lib\\site-packages (from matplotlib>=3.3.0->ultralytics) (1.26.4)\n",
      "Requirement already satisfied: packaging>=20.0 in c:\\users\\raj enterprises\\appdata\\roaming\\python\\python312\\site-packages (from matplotlib>=3.3.0->ultralytics) (23.2)\n",
      "Requirement already satisfied: pyparsing>=2.3.1 in c:\\users\\raj enterprises\\appdata\\roaming\\python\\python312\\site-packages (from matplotlib>=3.3.0->ultralytics) (3.1.1)\n",
      "Requirement already satisfied: python-dateutil>=2.7 in c:\\users\\raj enterprises\\appdata\\roaming\\python\\python312\\site-packages (from matplotlib>=3.3.0->ultralytics) (2.8.2)\n",
      "Requirement already satisfied: pytz>=2020.1 in c:\\users\\raj enterprises\\appdata\\roaming\\python\\python312\\site-packages (from pandas>=1.1.4->ultralytics) (2023.3.post1)\n",
      "Requirement already satisfied: tzdata>=2022.7 in c:\\python312\\lib\\site-packages (from pandas>=1.1.4->ultralytics) (2024.1)\n",
      "Requirement already satisfied: charset-normalizer<4,>=2 in c:\\users\\raj enterprises\\appdata\\roaming\\python\\python312\\site-packages (from requests>=2.23.0->ultralytics) (3.3.2)\n",
      "Requirement already satisfied: idna<4,>=2.5 in c:\\python312\\lib\\site-packages (from requests>=2.23.0->ultralytics) (2.10)\n",
      "Requirement already satisfied: urllib3<3,>=1.21.1 in c:\\users\\raj enterprises\\appdata\\roaming\\python\\python312\\site-packages (from requests>=2.23.0->ultralytics) (2.1.0)\n",
      "Requirement already satisfied: certifi>=2017.4.17 in c:\\python312\\lib\\site-packages (from requests>=2.23.0->ultralytics) (2023.7.22)\n",
      "Requirement already satisfied: filelock in c:\\python312\\lib\\site-packages (from torch>=1.8.0->ultralytics) (3.13.4)\n",
      "Requirement already satisfied: typing-extensions>=4.8.0 in c:\\users\\raj enterprises\\appdata\\roaming\\python\\python312\\site-packages (from torch>=1.8.0->ultralytics) (4.9.0)\n",
      "Requirement already satisfied: sympy in c:\\python312\\lib\\site-packages (from torch>=1.8.0->ultralytics) (1.12)\n",
      "Requirement already satisfied: networkx in c:\\python312\\lib\\site-packages (from torch>=1.8.0->ultralytics) (3.3)\n",
      "Requirement already satisfied: jinja2 in c:\\python312\\lib\\site-packages (from torch>=1.8.0->ultralytics) (3.1.3)\n",
      "Requirement already satisfied: fsspec in c:\\python312\\lib\\site-packages (from torch>=1.8.0->ultralytics) (2024.3.1)\n",
      "Requirement already satisfied: colorama in c:\\users\\raj enterprises\\appdata\\roaming\\python\\python312\\site-packages (from tqdm>=4.64.0->ultralytics) (0.4.6)\n",
      "Requirement already satisfied: six in c:\\users\\raj enterprises\\appdata\\roaming\\python\\python312\\site-packages (from cycler>=0.10->matplotlib>=3.3.0->ultralytics) (1.16.0)\n",
      "Requirement already satisfied: MarkupSafe>=2.0 in c:\\python312\\lib\\site-packages (from jinja2->torch>=1.8.0->ultralytics) (2.1.5)\n",
      "Requirement already satisfied: mpmath>=0.19 in c:\\python312\\lib\\site-packages (from sympy->torch>=1.8.0->ultralytics) (1.3.0)\n"
     ]
    }
   ],
   "source": [
    "!pip install roboflow\n",
    "!pip install ultralytics"
   ]
  },
  {
   "cell_type": "markdown",
   "metadata": {},
   "source": [
    "# Get Dataset\n"
   ]
  },
  {
   "cell_type": "code",
   "execution_count": 6,
   "metadata": {},
   "outputs": [
    {
     "name": "stdout",
     "output_type": "stream",
     "text": [
      "loading Roboflow workspace...\n",
      "loading Roboflow project...\n"
     ]
    },
    {
     "name": "stderr",
     "output_type": "stream",
     "text": [
      "Downloading Dataset Version Zip in tennis-ball-detection-6 to yolov5pytorch:: 100%|██████████| 52040/52040 [00:05<00:00, 8862.37it/s] "
     ]
    },
    {
     "name": "stdout",
     "output_type": "stream",
     "text": [
      "\n"
     ]
    },
    {
     "name": "stderr",
     "output_type": "stream",
     "text": [
      "\n",
      "Extracting Dataset Version Zip to tennis-ball-detection-6 in yolov5pytorch:: 100%|██████████| 1168/1168 [00:01<00:00, 1155.55it/s]\n"
     ]
    }
   ],
   "source": [
    "from roboflow import Roboflow\n",
    "rf = Roboflow(api_key=\"bitXXxTWdl1QPm2kM2h4\")\n",
    "project = rf.workspace(\"viren-dhanwani\").project(\"tennis-ball-detection\")\n",
    "version = project.version(6)\n",
    "dataset = version.download(\"yolov5\")"
   ]
  },
  {
   "cell_type": "code",
   "execution_count": 7,
   "metadata": {},
   "outputs": [],
   "source": [
    "import shutil \n"
   ]
  },
  {
   "cell_type": "code",
   "execution_count": 8,
   "metadata": {},
   "outputs": [
    {
     "data": {
      "text/plain": [
       "'tennis-ball-detection-6/tennis-ball-detection-6/valid'"
      ]
     },
     "execution_count": 8,
     "metadata": {},
     "output_type": "execute_result"
    }
   ],
   "source": [
    "shutil.move(\"tennis-ball-detection-6/train\", \n",
    "\"tennis-ball-detection-6/tennis-ball-detection-6/train\")\n",
    "\n",
    "shutil.move(\"tennis-ball-detection-6/test\", \n",
    "\"tennis-ball-detection-6/tennis-ball-detection-6/test\")\n",
    "\n",
    "shutil.move(\"tennis-ball-detection-6/valid\", \n",
    "\"tennis-ball-detection-6/tennis-ball-detection-6/valid\")"
   ]
  },
  {
   "cell_type": "code",
   "execution_count": null,
   "metadata": {},
   "outputs": [],
   "source": [
    "!yolo task=detect mode=train model=yolov5l6u.pt data={dataset.location}/data.yaml epochs=100 imgsz=640"
   ]
  }
 ],
 "metadata": {
  "kernelspec": {
   "display_name": "Python 3",
   "language": "python",
   "name": "python3"
  },
  "language_info": {
   "codemirror_mode": {
    "name": "ipython",
    "version": 3
   },
   "file_extension": ".py",
   "mimetype": "text/x-python",
   "name": "python",
   "nbconvert_exporter": "python",
   "pygments_lexer": "ipython3",
   "version": "3.12.1"
  }
 },
 "nbformat": 4,
 "nbformat_minor": 2
}
